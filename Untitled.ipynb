{
 "cells": [
  {
   "cell_type": "markdown",
   "id": "d8f02d7d",
   "metadata": {},
   "source": [
    "# Chicago Crime Data\n",
    "\n",
    "\n",
    "- Source: Chicago Data Portal: Crimes 2001 to Present\n",
    "- Data Description:\n",
    "        - All Crimes that were reported in the city of Chicago and their details\n",
    "        - View Preview\n",
    "    - Includes:\n",
    "        - type of crime, exact date/time, lat/long, District/ward, was there an arrest, etc.\n",
    "    - Note: the .csv is very large and needs to be processed into smaller files to fit inside a GitHub repository. We have provided a helper notebook below to process your downloaded file into a repo-friendly format. \n",
    "- Data Processing Helper Notebook:\n",
    "    - Use the helper notebook in this repository to process your manually-downloaded .csv into several .csv.gz files: https://github.com/coding-dojo-data-science/preparing-chicago-crime-data\n",
    "    - You can either Fork your own copy of the repository and rename it to be your \"Project 4\" repository, or you can download the notebook and save it in your own repository.\n",
    "\n",
    "- Supplemental Data: Holiday Data\n",
    "    - Check the lesson on \"Feature Engineering: Holidays\" to see how to use the Python 'holidays' package to add holidays to your dataset.\n",
    "\n",
    "- Notes/Considerations:\n",
    "    - You may need to keep 2 forms of the data:\n",
    "        - The original individual crime data with a datetime index. (Each row is 1 crime)\n",
    "        - A resampled/converted crime counts version (Each row is 1 day)"
   ]
  }
 ],
 "metadata": {
  "kernelspec": {
   "display_name": "Python (dojo-env)",
   "language": "python",
   "name": "dojo-env"
  },
  "language_info": {
   "codemirror_mode": {
    "name": "ipython",
    "version": 3
   },
   "file_extension": ".py",
   "mimetype": "text/x-python",
   "name": "python",
   "nbconvert_exporter": "python",
   "pygments_lexer": "ipython3",
   "version": "3.9.15"
  },
  "toc": {
   "base_numbering": 1,
   "nav_menu": {},
   "number_sections": true,
   "sideBar": true,
   "skip_h1_title": false,
   "title_cell": "Table of Contents",
   "title_sidebar": "Contents",
   "toc_cell": false,
   "toc_position": {},
   "toc_section_display": true,
   "toc_window_display": false
  }
 },
 "nbformat": 4,
 "nbformat_minor": 5
}
